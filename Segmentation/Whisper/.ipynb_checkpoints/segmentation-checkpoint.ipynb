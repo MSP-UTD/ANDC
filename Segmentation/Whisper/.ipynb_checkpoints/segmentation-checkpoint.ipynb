{
 "cells": [
  {
   "cell_type": "code",
   "execution_count": 1,
   "id": "7d67b1d9-8f75-4828-99a0-ed0f220b5422",
   "metadata": {},
   "outputs": [],
   "source": [
    "#!/bin/bash \n",
    "import os\n",
    "import subprocess\n",
    "import json\n",
    "from datetime import datetime, timedelta\n",
    "from glob import glob\n",
    "import pandas as pd\n",
    "from tqdm import tqdm"
   ]
  },
  {
   "cell_type": "code",
   "execution_count": 2,
   "id": "36057db2-3dee-4e11-8398-a03c185e7560",
   "metadata": {},
   "outputs": [],
   "source": [
    "def create_dir(dir_path):\n",
    "    if os.path.exists(dir_path):\n",
    "        print(\"Directory {} already exists\".format(dir_path))\n",
    "    else:\n",
    "        print(\"Creating directory {}\".format(dir_path))\n",
    "        os.mkdir(dir_path)\n",
    "        \n",
    "def translate(json_data, filename):\n",
    "    Out_Info = []\n",
    "    basename = os.path.basename(filename).split('.')[0]\n",
    "    for i, segment in enumerate(json_data):\n",
    "        seg_text = segment['text'].strip() \n",
    "        seg_start = trim_time(timedelta(seconds=segment['start']))\n",
    "        seg_end = trim_time(timedelta(seconds=segment['end']))\n",
    "        out = basename+';;;'+seg_start+';;;'+seg_end+';;;'+seg_text\n",
    "        Out_Info.append(out)\n",
    "    return Out_Info \n",
    "        \n",
    "def read_json(file_path):\n",
    "    with open(file_path,'r', encoding='utf8') as rf:\n",
    "        data = json.load(rf)\n",
    "    return data\n",
    "\n",
    "def trim_time(time_d):\n",
    "    time_d = str(time_d)\n",
    "    if '.' in time_d:\n",
    "        if len(time_d.split('.')[-1])>2:\n",
    "            trim_digits = len(time_d.split('.')[-1])-2\n",
    "            time_d = time_d[:-trim_digits]\n",
    "    else:\n",
    "        time_d += '.00'\n",
    "    return time_d\n",
    "\n",
    "def get_time_delta(start_time, end_time):\n",
    "    FMT = \"%H:%M:%S.%f\" # compute to milliseconds\n",
    "    delta_time = datetime.strptime(end_time, FMT) - datetime.strptime(start_time, FMT)\n",
    "    return delta_time.total_seconds()\n",
    "\n",
    "def save_segments_wav(df, src_audio, output_path , audio_type = 'Short_split_file', verbose=True):\n",
    "    cmd_string = \"ffmpeg -hide_banner -loglevel error -i {inp} -acodec copy -ss {st} -to {en} {out}\"\n",
    "    if verbose:\n",
    "        print(\"Saving {} audio files to disk\".format(audio_type))\n",
    "    for idx, row in tqdm(df.iterrows(), total=df.shape[0], disable= not verbose):\n",
    "        fname, start, end, text, dur = row\n",
    "        out_name = os.path.join(output_path, audio_type, fname)\n",
    "        command = cmd_string.format(inp=src_audio, out=out_name, st=start, en=end)\n",
    "        subprocess.call(command, shell=True)\n",
    "        \n",
    "            \n",
    "def segment_filename(row):\n",
    "    return '{}_{:04d}.wav'.format(row.filename, row.name)\n",
    "\n",
    "\n",
    "def json_to_df(segments, filename):\n",
    "    data = []\n",
    "    basename = os.path.basename(filename).split('.')[0]\n",
    "    header = ['filename', 'start', 'end', 'text']\n",
    "    for i, segment in enumerate(segments):\n",
    "        seg_text = segment['text'].strip() \n",
    "        seg_start = trim_time(timedelta(seconds=segment['start']))\n",
    "        seg_end = trim_time(timedelta(seconds=segment['end']))\n",
    "        row = [basename,seg_start,seg_end,seg_text]\n",
    "        data.append(row)\n",
    "    return pd.DataFrame(data, columns = header)\n",
    "\n",
    "def save_json(json_dict, root, filename):\n",
    "    json_object = json.dumps(json_dict, indent=4)\n",
    "    with open(os.path.join(root,filename), \"w\") as outfile:\n",
    "        outfile.write(json_object)"
   ]
  },
  {
   "cell_type": "code",
   "execution_count": 4,
   "id": "fc5539dd-59d6-4328-88ca-1529c27da3bf",
   "metadata": {
    "tags": []
   },
   "outputs": [
    {
     "name": "stdout",
     "output_type": "stream",
     "text": [
      "Creating directory /home/a/Desktop/MSP-Podcast/pipeline/ANDC_1/Outputs\n",
      "Creating directory /home/a/Desktop/MSP-Podcast/pipeline/ANDC_1/Outputs/JSON_parsing\n",
      "Creating directory /home/a/Desktop/MSP-Podcast/pipeline/ANDC_1/Outputs/Short_split_file\n",
      "Creating directory /home/a/Desktop/MSP-Podcast/pipeline/ANDC_1/Outputs/Long_split_file\n"
     ]
    }
   ],
   "source": [
    "root = \"/home/a/Desktop/MSP-Podcast/pipeline/ANDC_1/\"\n",
    "# path_0 = 'INPUTS_OUTPUTS'\n",
    "index_path = os.path.join(root,'INDEXER_output')\n",
    "output_path = os.path.join(root,'Outputs')\n",
    "\n",
    "#list of directories that we will need\n",
    "wav_path = os.path.join(index_path,'wav')\n",
    "json_path = os.path.join(index_path,'JSON_file')\n",
    "SplitTimeInfo_path = os.path.join(output_path,'JSON_parsing')\n",
    "short_output_path = os.path.join(output_path,'Short_split_file')\n",
    "long_output_path = os.path.join(output_path,'Long_split_file')\n",
    "\n",
    "\n",
    "# create output dirs\n",
    "create_dir(output_path)\n",
    "create_dir(SplitTimeInfo_path)\n",
    "create_dir(short_output_path)\n",
    "create_dir(long_output_path)"
   ]
  },
  {
   "cell_type": "code",
   "execution_count": 5,
   "id": "ba1fa881-4375-4492-a4a9-957debdde011",
   "metadata": {
    "tags": []
   },
   "outputs": [
    {
     "name": "stdout",
     "output_type": "stream",
     "text": [
      "\n",
      "Processing file /home/a/Desktop/MSP-Podcast/pipeline/ANDC_1/INDEXER_output/JSON_file/MSP-PODCAST_5199.json\n",
      "Saving Short_split_file audio files to disk\n"
     ]
    },
    {
     "name": "stderr",
     "output_type": "stream",
     "text": [
      "100%|███████████████████████████████████████████████████| 175/175 [00:12<00:00, 14.30it/s]\n"
     ]
    },
    {
     "name": "stdout",
     "output_type": "stream",
     "text": [
      "Saving Long_split_file audio files to disk\n"
     ]
    },
    {
     "name": "stderr",
     "output_type": "stream",
     "text": [
      "100%|███████████████████████████████████████████████████████| 2/2 [00:00<00:00, 17.36it/s]\n"
     ]
    },
    {
     "name": "stdout",
     "output_type": "stream",
     "text": [
      "\n",
      "Processing file /home/a/Desktop/MSP-Podcast/pipeline/ANDC_1/INDEXER_output/JSON_file/MSP-PODCAST_5197.json\n",
      "Saving Short_split_file audio files to disk\n"
     ]
    },
    {
     "name": "stderr",
     "output_type": "stream",
     "text": [
      "100%|███████████████████████████████████████████████████| 132/132 [00:07<00:00, 17.81it/s]\n"
     ]
    },
    {
     "name": "stdout",
     "output_type": "stream",
     "text": [
      "Saving Long_split_file audio files to disk\n"
     ]
    },
    {
     "name": "stderr",
     "output_type": "stream",
     "text": [
      "0it [00:00, ?it/s]\n"
     ]
    },
    {
     "name": "stdout",
     "output_type": "stream",
     "text": [
      "\n",
      "Processing file /home/a/Desktop/MSP-Podcast/pipeline/ANDC_1/INDEXER_output/JSON_file/MSP-PODCAST_5198.json\n",
      "Saving Short_split_file audio files to disk\n"
     ]
    },
    {
     "name": "stderr",
     "output_type": "stream",
     "text": [
      "100%|███████████████████████████████████████████████████| 192/192 [00:14<00:00, 12.99it/s]\n"
     ]
    },
    {
     "name": "stdout",
     "output_type": "stream",
     "text": [
      "Saving Long_split_file audio files to disk\n"
     ]
    },
    {
     "name": "stderr",
     "output_type": "stream",
     "text": [
      "100%|███████████████████████████████████████████████████████| 2/2 [00:00<00:00, 14.76it/s]\n"
     ]
    }
   ],
   "source": [
    "long_dfs = []\n",
    "short_dfs = []\n",
    "\n",
    "for filename in glob(os.path.join(json_path,  '*.json')):\n",
    "    basename = os.path.basename(filename)\n",
    "    \n",
    "    print(\"\\nProcessing file {}\".format(filename))\n",
    "    segments_file = read_json(os.path.join(json_path,filename))\n",
    "    df = json_to_df(segments_file, filename)\n",
    "    \n",
    "    #extend the filename by adding _1 .... _n\n",
    "    df['filename'] = df.apply(segment_filename, axis=1)\n",
    "    \n",
    "    #get duration of each segment\n",
    "    df['duration'] = df.apply(lambda x: get_time_delta(x.start, x.end), axis=1)\n",
    "    \n",
    "    #split segments into short [2.75s,11s) and long 11s+\n",
    "    short_df = df[(df.duration >=2.75) & (df.duration < 11.0)]\n",
    "    long_df = df[df.duration >= 11.0]\n",
    "    \n",
    "    short_dfs.append(short_df)\n",
    "    long_dfs.append(long_df)\n",
    "    \n",
    "    #split the main audio into segements saving the .wav files (long and short segments)\n",
    "    original_track = os.path.join(wav_path, basename.replace('.json', '.wav'))\n",
    "    save_segments_wav(short_df, original_track, output_path, 'Short_split_file')\n",
    "    save_segments_wav(long_df, original_track, output_path, 'Long_split_file')"
   ]
  },
  {
   "cell_type": "code",
   "execution_count": 6,
   "id": "dc42e7f0-d71a-4848-b92d-677fd4d114c4",
   "metadata": {},
   "outputs": [],
   "source": []
  },
  {
   "cell_type": "code",
   "execution_count": 7,
   "id": "45c32efe-5eea-4964-ba45-4d1266d7393a",
   "metadata": {
    "tags": []
   },
   "outputs": [],
   "source": [
    "if len(long_dfs) >= 1:\n",
    "    long_dfs = pd.concat(long_dfs)\n",
    "    long_dfs['comment'] = 'Whisper'\n",
    "    long_dfs['wav'] = [os.path.join(output_path, 'Long_split_file', x) for x in long_dfs.filename]\n",
    "    \n",
    "    sub_df = long_dfs.set_index('filename')\n",
    "    sub_df.index = [x.split('.')[0] for x in sub_df.index]\n",
    "    json_dict = json.loads(sub_df.to_json(orient ='index'))\n",
    "    for filename, f_info in json_dict.items():\n",
    "        f_info['filepaths'] = {}\n",
    "        f_info['filepaths']['wav']  = f_info['wav']\n",
    "        f_info.pop('wav')\n",
    "    \n",
    "    save_json(json_dict, output_path, \"Long_files.json\")"
   ]
  },
  {
   "cell_type": "code",
   "execution_count": 9,
   "id": "002eb4d4-ecc9-4454-a78f-930c6e2a2a12",
   "metadata": {},
   "outputs": [],
   "source": [
    "if len(short_dfs) >= 1:\n",
    "    short_dfs = pd.concat(short_dfs)\n",
    "    short_dfs['comment'] = 'Whisper'\n",
    "    short_dfs['wav'] = [os.path.join(output_path, 'Short_split_file', x) for x in short_dfs.filename]\n",
    "    \n",
    "    sub_df = short_dfs.set_index('filename')\n",
    "    sub_df.index = [x.split('.')[0] for x in sub_df.index]\n",
    "    json_dict = json.loads(sub_df.to_json(orient ='index'))\n",
    "    for filename, f_info in json_dict.items():\n",
    "        f_info['filepaths'] = {}\n",
    "        f_info['filepaths']['wav']  = f_info['wav']\n",
    "        f_info.pop('wav') \n",
    "    \n",
    "    save_json(json_dict, output_path, \"Short_files.json\")"
   ]
  },
  {
   "cell_type": "code",
   "execution_count": null,
   "id": "26e57588-e95f-44be-94ed-8cd63c4c0748",
   "metadata": {},
   "outputs": [],
   "source": []
  }
 ],
 "metadata": {
  "kernelspec": {
   "display_name": "podcast",
   "language": "python",
   "name": "podcast"
  },
  "language_info": {
   "codemirror_mode": {
    "name": "ipython",
    "version": 3
   },
   "file_extension": ".py",
   "mimetype": "text/x-python",
   "name": "python",
   "nbconvert_exporter": "python",
   "pygments_lexer": "ipython3",
   "version": "3.10.9"
  }
 },
 "nbformat": 4,
 "nbformat_minor": 5
}
