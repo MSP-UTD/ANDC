{
 "cells": [
  {
   "cell_type": "code",
   "execution_count": 1,
   "id": "350762ec-f1d5-4448-9332-c534a654efbd",
   "metadata": {},
   "outputs": [],
   "source": [
    "# conda env create python=3.7.3 -f winston_base.yml \n",
    "# conda install -c anaconda ipykernel\n",
    "# python -m ipykernel install --user --name=winston_base\n",
    "\n",
    "# conda env create python=3.7.13 -f HF.yml \n",
    "# conda env create python=3.10.4 -f tf2_new.yml \n",
    "# conda env create python=3.7.0 -f ssl.yml\n"
   ]
  },
  {
   "cell_type": "code",
   "execution_count": 2,
   "id": "29c71f86-00f7-4a2b-9f05-11e998ff43a5",
   "metadata": {
    "collapsed": true,
    "jupyter": {
     "outputs_hidden": true
    },
    "tags": []
   },
   "outputs": [
    {
     "name": "stderr",
     "output_type": "stream",
     "text": [
      "Using TensorFlow backend.\n",
      "/home/a/miniconda3/envs/winston_base/lib/python3.7/site-packages/tensorflow/python/framework/dtypes.py:516: FutureWarning: Passing (type, 1) or '1type' as a synonym of type is deprecated; in a future version of numpy, it will be understood as (type, (1,)) / '(1,)type'.\n",
      "  _np_qint8 = np.dtype([(\"qint8\", np.int8, 1)])\n",
      "/home/a/miniconda3/envs/winston_base/lib/python3.7/site-packages/tensorflow/python/framework/dtypes.py:517: FutureWarning: Passing (type, 1) or '1type' as a synonym of type is deprecated; in a future version of numpy, it will be understood as (type, (1,)) / '(1,)type'.\n",
      "  _np_quint8 = np.dtype([(\"quint8\", np.uint8, 1)])\n",
      "/home/a/miniconda3/envs/winston_base/lib/python3.7/site-packages/tensorflow/python/framework/dtypes.py:518: FutureWarning: Passing (type, 1) or '1type' as a synonym of type is deprecated; in a future version of numpy, it will be understood as (type, (1,)) / '(1,)type'.\n",
      "  _np_qint16 = np.dtype([(\"qint16\", np.int16, 1)])\n",
      "/home/a/miniconda3/envs/winston_base/lib/python3.7/site-packages/tensorflow/python/framework/dtypes.py:519: FutureWarning: Passing (type, 1) or '1type' as a synonym of type is deprecated; in a future version of numpy, it will be understood as (type, (1,)) / '(1,)type'.\n",
      "  _np_quint16 = np.dtype([(\"quint16\", np.uint16, 1)])\n",
      "/home/a/miniconda3/envs/winston_base/lib/python3.7/site-packages/tensorflow/python/framework/dtypes.py:520: FutureWarning: Passing (type, 1) or '1type' as a synonym of type is deprecated; in a future version of numpy, it will be understood as (type, (1,)) / '(1,)type'.\n",
      "  _np_qint32 = np.dtype([(\"qint32\", np.int32, 1)])\n",
      "/home/a/miniconda3/envs/winston_base/lib/python3.7/site-packages/tensorflow/python/framework/dtypes.py:525: FutureWarning: Passing (type, 1) or '1type' as a synonym of type is deprecated; in a future version of numpy, it will be understood as (type, (1,)) / '(1,)type'.\n",
      "  np_resource = np.dtype([(\"resource\", np.ubyte, 1)])\n",
      "/home/a/miniconda3/envs/winston_base/lib/python3.7/site-packages/tensorboard/compat/tensorflow_stub/dtypes.py:541: FutureWarning: Passing (type, 1) or '1type' as a synonym of type is deprecated; in a future version of numpy, it will be understood as (type, (1,)) / '(1,)type'.\n",
      "  _np_qint8 = np.dtype([(\"qint8\", np.int8, 1)])\n",
      "/home/a/miniconda3/envs/winston_base/lib/python3.7/site-packages/tensorboard/compat/tensorflow_stub/dtypes.py:542: FutureWarning: Passing (type, 1) or '1type' as a synonym of type is deprecated; in a future version of numpy, it will be understood as (type, (1,)) / '(1,)type'.\n",
      "  _np_quint8 = np.dtype([(\"quint8\", np.uint8, 1)])\n",
      "/home/a/miniconda3/envs/winston_base/lib/python3.7/site-packages/tensorboard/compat/tensorflow_stub/dtypes.py:543: FutureWarning: Passing (type, 1) or '1type' as a synonym of type is deprecated; in a future version of numpy, it will be understood as (type, (1,)) / '(1,)type'.\n",
      "  _np_qint16 = np.dtype([(\"qint16\", np.int16, 1)])\n",
      "/home/a/miniconda3/envs/winston_base/lib/python3.7/site-packages/tensorboard/compat/tensorflow_stub/dtypes.py:544: FutureWarning: Passing (type, 1) or '1type' as a synonym of type is deprecated; in a future version of numpy, it will be understood as (type, (1,)) / '(1,)type'.\n",
      "  _np_quint16 = np.dtype([(\"quint16\", np.uint16, 1)])\n",
      "/home/a/miniconda3/envs/winston_base/lib/python3.7/site-packages/tensorboard/compat/tensorflow_stub/dtypes.py:545: FutureWarning: Passing (type, 1) or '1type' as a synonym of type is deprecated; in a future version of numpy, it will be understood as (type, (1,)) / '(1,)type'.\n",
      "  _np_qint32 = np.dtype([(\"qint32\", np.int32, 1)])\n",
      "/home/a/miniconda3/envs/winston_base/lib/python3.7/site-packages/tensorboard/compat/tensorflow_stub/dtypes.py:550: FutureWarning: Passing (type, 1) or '1type' as a synonym of type is deprecated; in a future version of numpy, it will be understood as (type, (1,)) / '(1,)type'.\n",
      "  np_resource = np.dtype([(\"resource\", np.ubyte, 1)])\n"
     ]
    }
   ],
   "source": [
    "import argparse\n",
    "from smd.data import preprocessing\n",
    "from smd.data import postprocessing\n",
    "import smd.utils as utils\n",
    "import numpy as np\n",
    "import tensorflow as tf\n",
    "import keras.models\n",
    "from tqdm import tqdm\n",
    "import os\n",
    "import glob\n",
    "import shutil\n",
    "import json"
   ]
  },
  {
   "cell_type": "code",
   "execution_count": 3,
   "id": "458784fc-11aa-48de-b300-06b7ed48ef32",
   "metadata": {},
   "outputs": [],
   "source": [
    "output_root = '../INPUTS_OUTPUTS/Outputs'"
   ]
  },
  {
   "cell_type": "code",
   "execution_count": 4,
   "id": "80e0835c-997a-4ca9-ac83-201044ad5efb",
   "metadata": {
    "tags": []
   },
   "outputs": [],
   "source": [
    "\n",
    "\n",
    "\n",
    "\n",
    "def test_data_processing(file, mean, std):\n",
    "    if os.path.splitext(file)[1] == '.npy':\n",
    "        spec = np.load(file)\n",
    "    else:\n",
    "        audio = utils.load_audio(file)\n",
    "        spec = preprocessing.get_spectrogram(audio)\n",
    "    mels = preprocessing.get_scaled_mel_bands(spec)\n",
    "    mels = preprocessing.normalize(mels, mean, std)\n",
    "    return mels.T\n",
    "\n",
    "\n",
    "def predict(data_path, output_file, model_path, mean_path, std_path, smoothing):\n",
    "    mean = np.load(mean_path)\n",
    "    std = np.load(std_path)\n",
    "\n",
    "    print(\"Loading the model \" + model_path + \"..\")\n",
    "    with tf.device('/cpu:0'):\n",
    "        model = keras.models.load_model(model_path)\n",
    "    print(\"Start the prediction..\")\n",
    "\n",
    "    if os.path.isdir(data_path):\n",
    "        if output_file != \"\":\n",
    "            raise ValueError(\"It is possible to set an output file only if the input is a file.\")\n",
    "\n",
    "        files = glob.glob(os.path.abspath(data_path) + \"/*.npy\") + glob.glob(os.path.abspath(data_path) + \"/*.wav\")\n",
    "        for file in tqdm(files):\n",
    "            x = test_data_processing(file, mean, std)\n",
    "            x = x.reshape((1, x.shape[0], x.shape[1]))\n",
    "            output = model.predict(x, batch_size=1, verbose=0)[0].T\n",
    "            output = postprocessing.apply_threshold(output)\n",
    "            if smoothing:\n",
    "                output = postprocessing.smooth_output(output)\n",
    "            annotation = preprocessing.label_to_annotation(output)\n",
    "            output_path = file.replace(\".npy\", '') + \"_prediction.txt\"\n",
    "            output_path = output_path.replace('.wav','')\n",
    "            utils.save_annotation(annotation, output_path)\n",
    "    else:\n",
    "        file = os.path.abspath(data_path)\n",
    "        x = test_data_processing(file, mean, std)\n",
    "        x = x.reshape((1, x.shape[0], x.shape[1]))\n",
    "        output = model.predict(x, batch_size=1, verbose=0)[0].T\n",
    "        output = postprocessing.apply_threshold(output)\n",
    "        if smoothing:\n",
    "            output = postprocessing.smooth_output(output)\n",
    "        annotation = preprocessing.label_to_annotation(output)\n",
    "        if output_file != \"\":\n",
    "            output_path = output_file\n",
    "        else:\n",
    "            output_path = file.replace(\".npy\", '') + \"_prediction.txt\"\n",
    "            output_path = output_path.replace('.wav','')\n",
    "        utils.save_annotation(annotation, output_path)"
   ]
  },
  {
   "cell_type": "code",
   "execution_count": 5,
   "id": "59a7bc84-da33-4bb7-99c5-6c7b20ebc49b",
   "metadata": {},
   "outputs": [],
   "source": [
    "root = '../'\n",
    "\n",
    "output_location = 'INPUTS_OUTPUTS/Outputs/'"
   ]
  },
  {
   "cell_type": "code",
   "execution_count": 6,
   "id": "b506d4c8-6a1f-4f45-a323-b28439dc23ae",
   "metadata": {},
   "outputs": [],
   "source": [
    "\n",
    "data_path =root + output_location + \"Short_split_file/\"\n",
    "\n",
    "output_file =\"\"\n",
    "\n",
    "model_path = root + \"speech-music-detection/checkpoint/weights.28-0.13exp1_blstm.hdf5\"\n",
    "\n",
    "mean_path = root + \"speech-music-detection/checkpoint/mean_gtzan_esc-50_muspeak_musan.npy\"\n",
    "\n",
    "std_path = root + \"speech-music-detection/checkpoint/std_gtzan_esc-50_muspeak_musan.npy\"\n",
    "\n",
    "smoothing = True"
   ]
  },
  {
   "cell_type": "code",
   "execution_count": 7,
   "id": "354b42a2-c080-4d6b-9e78-82800800b876",
   "metadata": {},
   "outputs": [],
   "source": [
    "mean = np.load(mean_path)\n",
    "std = np.load(std_path)"
   ]
  },
  {
   "cell_type": "code",
   "execution_count": 8,
   "id": "e8fdd8d0-ad63-4cd5-b48a-6219b8682e4d",
   "metadata": {
    "collapsed": true,
    "jupyter": {
     "outputs_hidden": true
    },
    "tags": []
   },
   "outputs": [
    {
     "name": "stdout",
     "output_type": "stream",
     "text": [
      "Loading the model ../speech-music-detection/checkpoint/weights.28-0.13exp1_blstm.hdf5..\n",
      "WARNING:tensorflow:From /home/a/miniconda3/envs/winston_base/lib/python3.7/site-packages/keras/backend/tensorflow_backend.py:74: The name tf.get_default_graph is deprecated. Please use tf.compat.v1.get_default_graph instead.\n",
      "\n",
      "WARNING:tensorflow:From /home/a/miniconda3/envs/winston_base/lib/python3.7/site-packages/keras/backend/tensorflow_backend.py:517: The name tf.placeholder is deprecated. Please use tf.compat.v1.placeholder instead.\n",
      "\n",
      "WARNING:tensorflow:From /home/a/miniconda3/envs/winston_base/lib/python3.7/site-packages/keras/backend/tensorflow_backend.py:4138: The name tf.random_uniform is deprecated. Please use tf.random.uniform instead.\n",
      "\n",
      "WARNING:tensorflow:From /home/a/miniconda3/envs/winston_base/lib/python3.7/site-packages/keras/backend/tensorflow_backend.py:133: The name tf.placeholder_with_default is deprecated. Please use tf.compat.v1.placeholder_with_default instead.\n",
      "\n",
      "WARNING:tensorflow:From /home/a/miniconda3/envs/winston_base/lib/python3.7/site-packages/keras/backend/tensorflow_backend.py:3445: calling dropout (from tensorflow.python.ops.nn_ops) with keep_prob is deprecated and will be removed in a future version.\n",
      "Instructions for updating:\n",
      "Please use `rate` instead of `keep_prob`. Rate should be set to `rate = 1 - keep_prob`.\n",
      "WARNING:tensorflow:From /home/a/miniconda3/envs/winston_base/lib/python3.7/site-packages/keras/backend/tensorflow_backend.py:174: The name tf.get_default_session is deprecated. Please use tf.compat.v1.get_default_session instead.\n",
      "\n",
      "WARNING:tensorflow:From /home/a/miniconda3/envs/winston_base/lib/python3.7/site-packages/keras/optimizers.py:790: The name tf.train.Optimizer is deprecated. Please use tf.compat.v1.train.Optimizer instead.\n",
      "\n",
      "WARNING:tensorflow:From /home/a/miniconda3/envs/winston_base/lib/python3.7/site-packages/tensorflow/python/ops/nn_impl.py:180: add_dispatch_support.<locals>.wrapper (from tensorflow.python.ops.array_ops) is deprecated and will be removed in a future version.\n",
      "Instructions for updating:\n",
      "Use tf.where in 2.0, which has the same broadcast rule as np.where\n",
      "Start the prediction..\n"
     ]
    }
   ],
   "source": [
    "#load model (keras)\n",
    "print(\"Loading the model \" + model_path + \"..\")\n",
    "with tf.device('/cpu:0'):\n",
    "    model = keras.models.load_model(model_path)\n",
    "print(\"Start the prediction..\")"
   ]
  },
  {
   "cell_type": "code",
   "execution_count": 9,
   "id": "ffb3adcc-0303-4f1b-9572-6704611986f6",
   "metadata": {},
   "outputs": [],
   "source": [
    "with open(os.path.join(output_root, \"Short_files.json\"), \"r\") as openfile:\n",
    "    audio_files = json.load(openfile)"
   ]
  },
  {
   "cell_type": "code",
   "execution_count": 10,
   "id": "1100ec7b-2036-4327-ab69-3b506d6f506c",
   "metadata": {},
   "outputs": [
    {
     "name": "stderr",
     "output_type": "stream",
     "text": [
      "  0%|          | 0/499 [00:00<?, ?it/s]"
     ]
    },
    {
     "name": "stdout",
     "output_type": "stream",
     "text": [
      "Music/speech inference: \n"
     ]
    },
    {
     "name": "stderr",
     "output_type": "stream",
     "text": [
      "100%|██████████| 499/499 [00:53<00:00,  9.34it/s]\n"
     ]
    }
   ],
   "source": [
    "print(\"Music/speech inference: \")\n",
    "for filename, f_info in tqdm(audio_files.items()):\n",
    "    f_path = f_info['filepaths']['wav']\n",
    "    x = test_data_processing(f_path, mean, std)\n",
    "    x = x.reshape((1, x.shape[0], x.shape[1]))\n",
    "    output = model.predict(x, batch_size=1, verbose=0)[0].T\n",
    "    output = postprocessing.apply_threshold(output)\n",
    "    if smoothing:\n",
    "        output = postprocessing.smooth_output(output)\n",
    "    annotation = preprocessing.label_to_annotation(output)\n",
    "    #make sure its sorted by starting time\n",
    "    annotation = sorted(annotation, key=lambda x: x[0])\n",
    "    f_info['speech_music_pred'] = annotation"
   ]
  },
  {
   "cell_type": "code",
   "execution_count": 11,
   "id": "de232471-030a-4d04-9ed7-14bf98cbb5ed",
   "metadata": {},
   "outputs": [],
   "source": [
    "json_object = json.dumps(audio_files, indent=4)\n",
    "with open(os.path.join(output_root, \"Short_files.json\"), \"w\") as outfile:\n",
    "    outfile.write(json_object)"
   ]
  },
  {
   "cell_type": "code",
   "execution_count": null,
   "id": "104f2393-f476-4544-bb7e-87bc36613276",
   "metadata": {},
   "outputs": [],
   "source": []
  }
 ],
 "metadata": {
  "kernelspec": {
   "display_name": "winston_base",
   "language": "python",
   "name": "winston_base"
  },
  "language_info": {
   "codemirror_mode": {
    "name": "ipython",
    "version": 3
   },
   "file_extension": ".py",
   "mimetype": "text/x-python",
   "name": "python",
   "nbconvert_exporter": "python",
   "pygments_lexer": "ipython3",
   "version": "3.7.3"
  }
 },
 "nbformat": 4,
 "nbformat_minor": 5
}
