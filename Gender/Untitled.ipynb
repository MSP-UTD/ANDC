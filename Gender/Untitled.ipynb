{
 "cells": [
  {
   "cell_type": "code",
   "execution_count": 1,
   "id": "487d45e5-1a65-494e-99ab-1d6886a312ed",
   "metadata": {
    "collapsed": true,
    "jupyter": {
     "outputs_hidden": true
    },
    "tags": []
   },
   "outputs": [
    {
     "name": "stderr",
     "output_type": "stream",
     "text": [
      "Using TensorFlow backend.\n",
      "/home/a/miniconda3/envs/winston_base/lib/python3.7/site-packages/tensorflow/python/framework/dtypes.py:516: FutureWarning: Passing (type, 1) or '1type' as a synonym of type is deprecated; in a future version of numpy, it will be understood as (type, (1,)) / '(1,)type'.\n",
      "  _np_qint8 = np.dtype([(\"qint8\", np.int8, 1)])\n",
      "/home/a/miniconda3/envs/winston_base/lib/python3.7/site-packages/tensorflow/python/framework/dtypes.py:517: FutureWarning: Passing (type, 1) or '1type' as a synonym of type is deprecated; in a future version of numpy, it will be understood as (type, (1,)) / '(1,)type'.\n",
      "  _np_quint8 = np.dtype([(\"quint8\", np.uint8, 1)])\n",
      "/home/a/miniconda3/envs/winston_base/lib/python3.7/site-packages/tensorflow/python/framework/dtypes.py:518: FutureWarning: Passing (type, 1) or '1type' as a synonym of type is deprecated; in a future version of numpy, it will be understood as (type, (1,)) / '(1,)type'.\n",
      "  _np_qint16 = np.dtype([(\"qint16\", np.int16, 1)])\n",
      "/home/a/miniconda3/envs/winston_base/lib/python3.7/site-packages/tensorflow/python/framework/dtypes.py:519: FutureWarning: Passing (type, 1) or '1type' as a synonym of type is deprecated; in a future version of numpy, it will be understood as (type, (1,)) / '(1,)type'.\n",
      "  _np_quint16 = np.dtype([(\"quint16\", np.uint16, 1)])\n",
      "/home/a/miniconda3/envs/winston_base/lib/python3.7/site-packages/tensorflow/python/framework/dtypes.py:520: FutureWarning: Passing (type, 1) or '1type' as a synonym of type is deprecated; in a future version of numpy, it will be understood as (type, (1,)) / '(1,)type'.\n",
      "  _np_qint32 = np.dtype([(\"qint32\", np.int32, 1)])\n",
      "/home/a/miniconda3/envs/winston_base/lib/python3.7/site-packages/tensorflow/python/framework/dtypes.py:525: FutureWarning: Passing (type, 1) or '1type' as a synonym of type is deprecated; in a future version of numpy, it will be understood as (type, (1,)) / '(1,)type'.\n",
      "  np_resource = np.dtype([(\"resource\", np.ubyte, 1)])\n",
      "/home/a/miniconda3/envs/winston_base/lib/python3.7/site-packages/tensorboard/compat/tensorflow_stub/dtypes.py:541: FutureWarning: Passing (type, 1) or '1type' as a synonym of type is deprecated; in a future version of numpy, it will be understood as (type, (1,)) / '(1,)type'.\n",
      "  _np_qint8 = np.dtype([(\"qint8\", np.int8, 1)])\n",
      "/home/a/miniconda3/envs/winston_base/lib/python3.7/site-packages/tensorboard/compat/tensorflow_stub/dtypes.py:542: FutureWarning: Passing (type, 1) or '1type' as a synonym of type is deprecated; in a future version of numpy, it will be understood as (type, (1,)) / '(1,)type'.\n",
      "  _np_quint8 = np.dtype([(\"quint8\", np.uint8, 1)])\n",
      "/home/a/miniconda3/envs/winston_base/lib/python3.7/site-packages/tensorboard/compat/tensorflow_stub/dtypes.py:543: FutureWarning: Passing (type, 1) or '1type' as a synonym of type is deprecated; in a future version of numpy, it will be understood as (type, (1,)) / '(1,)type'.\n",
      "  _np_qint16 = np.dtype([(\"qint16\", np.int16, 1)])\n",
      "/home/a/miniconda3/envs/winston_base/lib/python3.7/site-packages/tensorboard/compat/tensorflow_stub/dtypes.py:544: FutureWarning: Passing (type, 1) or '1type' as a synonym of type is deprecated; in a future version of numpy, it will be understood as (type, (1,)) / '(1,)type'.\n",
      "  _np_quint16 = np.dtype([(\"quint16\", np.uint16, 1)])\n",
      "/home/a/miniconda3/envs/winston_base/lib/python3.7/site-packages/tensorboard/compat/tensorflow_stub/dtypes.py:545: FutureWarning: Passing (type, 1) or '1type' as a synonym of type is deprecated; in a future version of numpy, it will be understood as (type, (1,)) / '(1,)type'.\n",
      "  _np_qint32 = np.dtype([(\"qint32\", np.int32, 1)])\n",
      "/home/a/miniconda3/envs/winston_base/lib/python3.7/site-packages/tensorboard/compat/tensorflow_stub/dtypes.py:550: FutureWarning: Passing (type, 1) or '1type' as a synonym of type is deprecated; in a future version of numpy, it will be understood as (type, (1,)) / '(1,)type'.\n",
      "  np_resource = np.dtype([(\"resource\", np.ubyte, 1)])\n"
     ]
    }
   ],
   "source": [
    "from __future__ import print_function, division\n",
    "import os\n",
    "import torch\n",
    "import numpy as np\n",
    "from torch.autograd import Variable\n",
    "import librosa\n",
    "from scipy.stats import mode\n",
    "import csv\n",
    "import scipy\n",
    "from keras.preprocessing.sequence import pad_sequences\n",
    "from model import LSTMnet\n",
    "import random\n",
    "from tqdm import tqdm\n",
    "from csv import writer\n",
    "import json"
   ]
  },
  {
   "cell_type": "code",
   "execution_count": 2,
   "id": "b1f15c2f-519d-48bf-a775-73a60532bd85",
   "metadata": {},
   "outputs": [],
   "source": [
    "# Ignore warnings & Fix random seed\n",
    "import warnings\n",
    "warnings.filterwarnings(\"ignore\")\n",
    "random.seed(999)"
   ]
  },
  {
   "cell_type": "code",
   "execution_count": 3,
   "id": "4089d1cc-0ce4-4df9-a7b7-c0dc9a0344e1",
   "metadata": {},
   "outputs": [],
   "source": [
    "def Spec_and_Phase(fpath):\n",
    "    signal, rate  = librosa.load(fpath, sr=16000)\n",
    "    signal = signal/np.max(abs(signal)) # Restrict value between [-1,1]\n",
    "    F = librosa.stft(signal, n_fft=512, hop_length=256, win_length=512, window=scipy.signal.hamming)\n",
    "    spec = np.abs(F)\n",
    "    phase = np.angle(F)\n",
    "    spec = np.reshape(spec.T,(spec.shape[1],spec.shape[0]))\n",
    "    return spec\n",
    "\n",
    "# Split Original batch Data into Small-Chunk batch Data Structure with padding\n",
    "def SmallChunkSplitData(data, FrameSize):  \n",
    "    start = 0\n",
    "    Start = [0]\n",
    "    End = []\n",
    "    Split_Data = []\n",
    "    if len(data)>=FrameSize:\n",
    "        equeal_division_data = data[:(int(len(data)/FrameSize))*FrameSize]\n",
    "        split_data = np.split(equeal_division_data,int(len(data)/FrameSize))           \n",
    "        left_data = data[len(equeal_division_data):]\n",
    "        if len(left_data)!=0:            \n",
    "            pad_left_data = pad_sequences(left_data.T, maxlen=FrameSize ,dtype='float', padding='post', truncating='post')\n",
    "            pad_left_data = pad_left_data.T                         \n",
    "            Split_Data = Split_Data + split_data + [pad_left_data]\n",
    "            Start.append(start+len(split_data)+1)\n",
    "            End.append(start+len(split_data)+1)\n",
    "            start = start+len(split_data)+1\n",
    "        else:\n",
    "            Split_Data = Split_Data + split_data\n",
    "            Start.append(start+len(split_data))\n",
    "            End.append(start+len(split_data))\n",
    "            start = start+len(split_data)  \n",
    "    else:\n",
    "        left_data = data\n",
    "        pad_left_data = pad_sequences(left_data.T, maxlen=FrameSize ,dtype='float', padding='post', truncating='post')\n",
    "        pad_left_data = pad_left_data.T\n",
    "        Split_Data = Split_Data + [pad_left_data]        \n",
    "        Start.append(start+1)\n",
    "        End.append(start+1)\n",
    "        start = start+1 \n",
    "    return np.array(Split_Data)\n",
    "\n",
    "def prediction_folder(input_path):\n",
    "    F_Name = []\n",
    "    Pred_Rsl = []\n",
    "    for root, directories, files in os.walk(input_path):\n",
    "        # print(root)\n",
    "        # files = sorted(files)\n",
    "        # print(files)\n",
    "        print('Gender Predictions')\n",
    "        for filename in tqdm(files):\n",
    "            # Join the two strings in order to form the full filepath.\n",
    "            filepath = os.path.join(root, filename)\n",
    "            if '.wav' in filepath:\n",
    "                try:\n",
    "                    data = Spec_and_Phase(filepath)\n",
    "                    chunk_data = SmallChunkSplitData(data, FrameSize=65)\n",
    "                    # Data to torch & float for model input\n",
    "                    chunk_data = torch.from_numpy(chunk_data)\n",
    "                    chunk_data = chunk_data.float().to(device)\n",
    "                    # Pred-chunk-labels for chunk data\n",
    "                    pred_label = model(chunk_data)\n",
    "                    pred_label = (np.round( (Variable(pred_label).data).cpu().numpy() )).reshape(-1)\n",
    "                    # Output Results\n",
    "                    F_Name.append(filename)\n",
    "                    Pred_Rsl.append(mode(pred_label)[0][0])   # output voting result only \n",
    "                except:\n",
    "                    print('Cannot Predict: '+filename)\n",
    "    return F_Name, Pred_Rsl"
   ]
  },
  {
   "cell_type": "code",
   "execution_count": 4,
   "id": "2c196dca-e6b8-4a26-84dc-d3098bf64bcc",
   "metadata": {},
   "outputs": [],
   "source": [
    "def to_csv(F_Name, Pred_Rsl):\n",
    "    # f = open('/home/podcast/Desktop/DUMMY_ENV/INPUTS_OUTPUTS/Outputs/pred_gender_result_v1.csv','w')\n",
    "    with open('/home/podcast/Desktop/MSP_Podcast_FILTER/emotions_feats_and_preds/pred_gender_result.csv','a', newline='') as f_object:\n",
    "        # w = csv.writer(f)\n",
    "        # w.writerow(('File_Name','Pred_Gender'))\n",
    "        writer_object = writer(f_object)\n",
    "\n",
    "        for i in range(len(F_Name)):\n",
    "            gender = Pred_Rsl[i]\n",
    "            if gender==1:\n",
    "                gender = 'Male'\n",
    "            elif gender==0:\n",
    "                gender = 'Female'\n",
    "            writer_object.writerow([F_Name[i], gender])\n",
    "        f_object.close()\n",
    "        print('Gender Done')\n",
    "###############################################################################"
   ]
  },
  {
   "cell_type": "code",
   "execution_count": 5,
   "id": "661c605e-9bee-4bff-9bdb-0ac7b9627846",
   "metadata": {},
   "outputs": [],
   "source": [
    "# CUDA for PyTorch\n",
    "use_cuda = torch.cuda.is_available()\n",
    "device = torch.device(\"cuda:0\" if use_cuda else \"cpu\")      \n"
   ]
  },
  {
   "cell_type": "code",
   "execution_count": 6,
   "id": "0b103e99-212d-4b5e-803f-035ae830298c",
   "metadata": {},
   "outputs": [],
   "source": [
    "# Settings  \n",
    "Training_epochs = 15\n",
    "feat_type = 'Spec'\n",
    "MODEL_STRUCT = 'LSTM'\n",
    "LOADING_PATH = './'+feat_type+'_'+MODEL_STRUCT+'_epoch'+str(Training_epochs)+'.pt.tar'"
   ]
  },
  {
   "cell_type": "code",
   "execution_count": 7,
   "id": "85824818-30e0-4ee0-b0b9-e5da9b9f9f20",
   "metadata": {
    "tags": []
   },
   "outputs": [
    {
     "data": {
      "text/plain": [
       "LSTMnet(\n",
       "  (lstm): Sequential(\n",
       "    (lstm): LSTM(257, 150, num_layers=2, batch_first=True, dropout=0.5)\n",
       "  )\n",
       "  (dense): Sequential(\n",
       "    (dense1): Linear(in_features=150, out_features=100, bias=True)\n",
       "    (relu1): LeakyReLU(negative_slope=0.01)\n",
       "    (dense2): Linear(in_features=100, out_features=50, bias=True)\n",
       "    (relu2): LeakyReLU(negative_slope=0.01)\n",
       "    (dense_out): Linear(in_features=50, out_features=1, bias=True)\n",
       "    (act_out): Sigmoid()\n",
       "  )\n",
       ")"
      ]
     },
     "execution_count": 7,
     "metadata": {},
     "output_type": "execute_result"
    }
   ],
   "source": [
    "# Loading Model Parameters\n",
    "model = LSTMnet(input_dim=257, hidden_dim=150, output_dim=1, num_layers=2)\n",
    "model.load_state_dict(torch.load(LOADING_PATH, map_location=torch.device(device)))\n",
    "model = model.to(device) # if wants to predict on torch.tensor data\n",
    "model.eval()"
   ]
  },
  {
   "cell_type": "code",
   "execution_count": 8,
   "id": "58e01779-773c-4187-8db7-ddda7e39d977",
   "metadata": {},
   "outputs": [],
   "source": [
    "root = '/home/a/Desktop/MSP-Podcast/pipeline/'\n",
    "\n",
    "output_location = 'INPUTS_OUTPUTS/Outputs/'\n",
    "\n",
    "with open(os.path.join(os.path.join(root, output_location), \"Short_files.json\"), \"r\") as openfile:\n",
    "    audio_files = json.load(openfile)"
   ]
  },
  {
   "cell_type": "code",
   "execution_count": 9,
   "id": "5957079c-1029-46ce-bc08-ade3f3d653c4",
   "metadata": {},
   "outputs": [
    {
     "name": "stderr",
     "output_type": "stream",
     "text": [
      "100%|██████████| 499/499 [00:06<00:00, 81.25it/s]\n"
     ]
    }
   ],
   "source": [
    "for filename, f_info in tqdm(audio_files.items()):\n",
    "    f_path = f_info['filepaths']['wav']\n",
    "    # music_info = f_info['gender']\n",
    "    data = Spec_and_Phase(f_path)\n",
    "    chunk_data = SmallChunkSplitData(data, FrameSize=65)\n",
    "    # Data to torch & float for model input\n",
    "    chunk_data = torch.from_numpy(chunk_data)\n",
    "    chunk_data = chunk_data.float().to(device)\n",
    "    # Pred-chunk-labels for chunk data\n",
    "    pred_label = model(chunk_data)\n",
    "    pred_label = (np.round( (Variable(pred_label).data).cpu().numpy() )).reshape(-1)\n",
    "    # Output Results\n",
    "    gender_pred = float(mode(pred_label)[0][0])   # output voting result only \n",
    "    if gender_pred == 1:\n",
    "        gender_pred = 'Male'\n",
    "    elif gender_pred == 0:\n",
    "        gender_pred = 'Female'\n",
    "    f_info['gender'] = gender_pred"
   ]
  },
  {
   "cell_type": "code",
   "execution_count": 10,
   "id": "f842e4e4-b555-4200-97ec-4d5a87f07d19",
   "metadata": {},
   "outputs": [],
   "source": [
    "json_object = json.dumps(audio_files, indent=4)\n",
    "with open(os.path.join(root, output_location, \"Short_files.json\"), \"w\") as outfile:\n",
    "    outfile.write(json_object)"
   ]
  },
  {
   "cell_type": "code",
   "execution_count": null,
   "id": "5281d610-d6ce-4049-8a58-a8d934a03135",
   "metadata": {},
   "outputs": [],
   "source": []
  }
 ],
 "metadata": {
  "kernelspec": {
   "display_name": "winston_base",
   "language": "python",
   "name": "winston_base"
  },
  "language_info": {
   "codemirror_mode": {
    "name": "ipython",
    "version": 3
   },
   "file_extension": ".py",
   "mimetype": "text/x-python",
   "name": "python",
   "nbconvert_exporter": "python",
   "pygments_lexer": "ipython3",
   "version": "3.7.3"
  }
 },
 "nbformat": 4,
 "nbformat_minor": 5
}
